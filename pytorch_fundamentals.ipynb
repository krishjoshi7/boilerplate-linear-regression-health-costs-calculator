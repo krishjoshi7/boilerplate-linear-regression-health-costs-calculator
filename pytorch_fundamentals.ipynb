{
  "nbformat": 4,
  "nbformat_minor": 0,
  "metadata": {
    "colab": {
      "provenance": [],
      "gpuType": "T4",
      "authorship_tag": "ABX9TyMF6Y06EcZ3G9cM5zDGfX+l",
      "include_colab_link": true
    },
    "kernelspec": {
      "name": "python3",
      "display_name": "Python 3"
    },
    "language_info": {
      "name": "python"
    }
  },
  "cells": [
    {
      "cell_type": "markdown",
      "metadata": {
        "id": "view-in-github",
        "colab_type": "text"
      },
      "source": [
        "<a href=\"https://colab.research.google.com/github/krishjoshi7/boilerplate-linear-regression-health-costs-calculator/blob/main/pytorch_fundamentals.ipynb\" target=\"_parent\"><img src=\"https://colab.research.google.com/assets/colab-badge.svg\" alt=\"Open In Colab\"/></a>"
      ]
    },
    {
      "cell_type": "markdown",
      "source": [
        "# Pytorch fundamentals"
      ],
      "metadata": {
        "id": "sC-G0Use6BAe"
      }
    },
    {
      "cell_type": "code",
      "execution_count": 215,
      "metadata": {
        "colab": {
          "base_uri": "https://localhost:8080/"
        },
        "id": "vADsSn3C5Ios",
        "outputId": "c87eb2d3-1e22-41ed-8bff-0f8a34e000e4"
      },
      "outputs": [
        {
          "output_type": "stream",
          "name": "stdout",
          "text": [
            "/bin/bash: line 1: nvidia-smi: command not found\n"
          ]
        }
      ],
      "source": [
        "!nvidia-smi"
      ]
    },
    {
      "cell_type": "code",
      "source": [
        "import torch\n",
        "print(torch.__version__)"
      ],
      "metadata": {
        "colab": {
          "base_uri": "https://localhost:8080/"
        },
        "id": "WwqdILdO6FH4",
        "outputId": "01fb36df-45f6-4f1c-a21d-b76d4d816b07"
      },
      "execution_count": 216,
      "outputs": [
        {
          "output_type": "stream",
          "name": "stdout",
          "text": [
            "2.0.1+cu118\n"
          ]
        }
      ]
    },
    {
      "cell_type": "markdown",
      "source": [
        "# Introduction to Tensors\n",
        "\n",
        "creating tensors"
      ],
      "metadata": {
        "id": "v6KTICTT70p_"
      }
    },
    {
      "cell_type": "code",
      "source": [
        "#scalar\n",
        "scalar = torch.tensor(7)\n",
        "scalar"
      ],
      "metadata": {
        "colab": {
          "base_uri": "https://localhost:8080/"
        },
        "id": "-6JMBkNv651w",
        "outputId": "811d18b7-7604-41fc-8b73-f4c21ee6514c"
      },
      "execution_count": 217,
      "outputs": [
        {
          "output_type": "execute_result",
          "data": {
            "text/plain": [
              "tensor(7)"
            ]
          },
          "metadata": {},
          "execution_count": 217
        }
      ]
    },
    {
      "cell_type": "code",
      "source": [
        "# A scalar has no dimenssion for this we use command (.ndim)\n",
        "scalar.ndim"
      ],
      "metadata": {
        "colab": {
          "base_uri": "https://localhost:8080/"
        },
        "id": "uipf9Hw88S3_",
        "outputId": "f9202793-ef44-4f35-bd5c-e16460955d74"
      },
      "execution_count": 218,
      "outputs": [
        {
          "output_type": "execute_result",
          "data": {
            "text/plain": [
              "0"
            ]
          },
          "metadata": {},
          "execution_count": 218
        }
      ]
    },
    {
      "cell_type": "markdown",
      "source": [
        "torch.tensor()  *always copies data\n",
        "\n",
        " *if you want to avoid copy use :- detach() or use requries_grad_()"
      ],
      "metadata": {
        "id": "QYcRQ8r-9_J7"
      }
    },
    {
      "cell_type": "code",
      "source": [
        "# get tensor back as python int\n",
        "scalar.item()"
      ],
      "metadata": {
        "colab": {
          "base_uri": "https://localhost:8080/"
        },
        "id": "uAzDxN6A9z6r",
        "outputId": "5a7322b7-a93c-4905-c032-cae4e8d2fe05"
      },
      "execution_count": 219,
      "outputs": [
        {
          "output_type": "execute_result",
          "data": {
            "text/plain": [
              "7"
            ]
          },
          "metadata": {},
          "execution_count": 219
        }
      ]
    },
    {
      "cell_type": "code",
      "source": [
        "# Vector\n",
        "vector = torch.tensor([7,7])\n",
        "vector"
      ],
      "metadata": {
        "colab": {
          "base_uri": "https://localhost:8080/"
        },
        "id": "iJDa_y4X-bqN",
        "outputId": "2f5ed13f-4979-486a-f8f4-57fe6539c1b3"
      },
      "execution_count": 220,
      "outputs": [
        {
          "output_type": "execute_result",
          "data": {
            "text/plain": [
              "tensor([7, 7])"
            ]
          },
          "metadata": {},
          "execution_count": 220
        }
      ]
    },
    {
      "cell_type": "code",
      "source": [
        "vector.ndim"
      ],
      "metadata": {
        "colab": {
          "base_uri": "https://localhost:8080/"
        },
        "id": "uEaEBoA_-4TS",
        "outputId": "5bd6908f-cdcb-41f0-f4db-c1d9eef6d2a8"
      },
      "execution_count": 221,
      "outputs": [
        {
          "output_type": "execute_result",
          "data": {
            "text/plain": [
              "1"
            ]
          },
          "metadata": {},
          "execution_count": 221
        }
      ]
    },
    {
      "cell_type": "code",
      "source": [
        "vector.shape"
      ],
      "metadata": {
        "colab": {
          "base_uri": "https://localhost:8080/"
        },
        "id": "j71FO2Ju_TFQ",
        "outputId": "9e04025d-d117-4a0f-8b98-24d829325c95"
      },
      "execution_count": 222,
      "outputs": [
        {
          "output_type": "execute_result",
          "data": {
            "text/plain": [
              "torch.Size([2])"
            ]
          },
          "metadata": {},
          "execution_count": 222
        }
      ]
    },
    {
      "cell_type": "code",
      "source": [
        "#MATRIX\n",
        "MATRIX = torch.tensor([[7,8],\n",
        "                       [9,10]])\n",
        "MATRIX"
      ],
      "metadata": {
        "colab": {
          "base_uri": "https://localhost:8080/"
        },
        "id": "OUYKQ9wS_ZxM",
        "outputId": "736eb952-ac51-430a-9fc9-b13e94438b6f"
      },
      "execution_count": 223,
      "outputs": [
        {
          "output_type": "execute_result",
          "data": {
            "text/plain": [
              "tensor([[ 7,  8],\n",
              "        [ 9, 10]])"
            ]
          },
          "metadata": {},
          "execution_count": 223
        }
      ]
    },
    {
      "cell_type": "code",
      "source": [
        "MATRIX.ndim"
      ],
      "metadata": {
        "colab": {
          "base_uri": "https://localhost:8080/"
        },
        "id": "0HbjOI3iACS2",
        "outputId": "a2460bae-0da1-49bc-d8f0-1de22faf5d84"
      },
      "execution_count": 224,
      "outputs": [
        {
          "output_type": "execute_result",
          "data": {
            "text/plain": [
              "2"
            ]
          },
          "metadata": {},
          "execution_count": 224
        }
      ]
    },
    {
      "cell_type": "code",
      "source": [
        "MATRIX[0]"
      ],
      "metadata": {
        "colab": {
          "base_uri": "https://localhost:8080/"
        },
        "id": "xVZSFcN2Af-T",
        "outputId": "b7a92142-0611-49dd-9678-9638854364eb"
      },
      "execution_count": 225,
      "outputs": [
        {
          "output_type": "execute_result",
          "data": {
            "text/plain": [
              "tensor([7, 8])"
            ]
          },
          "metadata": {},
          "execution_count": 225
        }
      ]
    },
    {
      "cell_type": "code",
      "source": [
        "MATRIX[1]"
      ],
      "metadata": {
        "colab": {
          "base_uri": "https://localhost:8080/"
        },
        "id": "vRhNd1RvAkLU",
        "outputId": "6f8f1bdf-eea6-48ef-f213-7a596bcce9fb"
      },
      "execution_count": 226,
      "outputs": [
        {
          "output_type": "execute_result",
          "data": {
            "text/plain": [
              "tensor([ 9, 10])"
            ]
          },
          "metadata": {},
          "execution_count": 226
        }
      ]
    },
    {
      "cell_type": "code",
      "source": [
        "MATRIX.shape"
      ],
      "metadata": {
        "colab": {
          "base_uri": "https://localhost:8080/"
        },
        "id": "Aga4I-UvAMSu",
        "outputId": "78d4e5b8-76b6-4f63-86dd-b91dd6f99873"
      },
      "execution_count": 227,
      "outputs": [
        {
          "output_type": "execute_result",
          "data": {
            "text/plain": [
              "torch.Size([2, 2])"
            ]
          },
          "metadata": {},
          "execution_count": 227
        }
      ]
    },
    {
      "cell_type": "code",
      "source": [
        "#TENSOR\n",
        "TENSOR=torch.tensor([[[1,2,3],\n",
        "                      [3, 6, 9],\n",
        "                       [2, 4, 5]]])\n",
        "TENSOR"
      ],
      "metadata": {
        "colab": {
          "base_uri": "https://localhost:8080/"
        },
        "id": "TQJrTtHOAZ8g",
        "outputId": "db0e2e3d-b2e5-404f-d087-6620485d9ff5"
      },
      "execution_count": 228,
      "outputs": [
        {
          "output_type": "execute_result",
          "data": {
            "text/plain": [
              "tensor([[[1, 2, 3],\n",
              "         [3, 6, 9],\n",
              "         [2, 4, 5]]])"
            ]
          },
          "metadata": {},
          "execution_count": 228
        }
      ]
    },
    {
      "cell_type": "code",
      "source": [
        "TENSOR.ndim"
      ],
      "metadata": {
        "colab": {
          "base_uri": "https://localhost:8080/"
        },
        "id": "dx_31eCjBxyt",
        "outputId": "89ac1968-b14a-4c10-a094-105471b740f0"
      },
      "execution_count": 229,
      "outputs": [
        {
          "output_type": "execute_result",
          "data": {
            "text/plain": [
              "3"
            ]
          },
          "metadata": {},
          "execution_count": 229
        }
      ]
    },
    {
      "cell_type": "code",
      "source": [
        "TENSOR.shape"
      ],
      "metadata": {
        "colab": {
          "base_uri": "https://localhost:8080/"
        },
        "id": "33bhwDUICJiX",
        "outputId": "addd737f-b4d2-43e0-c18d-394c9881cbd6"
      },
      "execution_count": 230,
      "outputs": [
        {
          "output_type": "execute_result",
          "data": {
            "text/plain": [
              "torch.Size([1, 3, 3])"
            ]
          },
          "metadata": {},
          "execution_count": 230
        }
      ]
    },
    {
      "cell_type": "code",
      "source": [
        "TENSOR[0]"
      ],
      "metadata": {
        "colab": {
          "base_uri": "https://localhost:8080/"
        },
        "id": "3D0PzMnbCM0a",
        "outputId": "2aef0cdc-35e3-4706-820a-b604bd1adebb"
      },
      "execution_count": 231,
      "outputs": [
        {
          "output_type": "execute_result",
          "data": {
            "text/plain": [
              "tensor([[1, 2, 3],\n",
              "        [3, 6, 9],\n",
              "        [2, 4, 5]])"
            ]
          },
          "metadata": {},
          "execution_count": 231
        }
      ]
    },
    {
      "cell_type": "markdown",
      "source": [
        "#NOTE\n",
        "\n",
        "In Ml/DL for variable name\n",
        "\n",
        "we will be using scalar, vector with lower case\n",
        "\n",
        "MATRIX, TENSOR will use upper case"
      ],
      "metadata": {
        "id": "maOPbU7YEYn6"
      }
    },
    {
      "cell_type": "markdown",
      "source": [
        "#Random Tensors"
      ],
      "metadata": {
        "id": "r6ksKOkCFK7c"
      }
    },
    {
      "cell_type": "markdown",
      "source": [
        "Why random tensors ?\n",
        "\n",
        "Random tensors are importan  beacuse\n",
        "\n",
        "The way many nueral network learns is that they start with tensors fullof random numbers and then adjust thoes random numbers to better represent the data\n",
        "\n",
        "`start with random numbers -> look at data -> update random number -> look at data -> update random numbers`"
      ],
      "metadata": {
        "id": "y1_h_ADhFd1b"
      }
    },
    {
      "cell_type": "code",
      "source": [
        "# Create a random tensor of size (3,4)\n",
        "random_tensor = torch.rand(3, 4)\n",
        "random_tensor"
      ],
      "metadata": {
        "colab": {
          "base_uri": "https://localhost:8080/"
        },
        "id": "jzsd07a5CSAK",
        "outputId": "cb324c68-010c-4e27-ae2a-6be53782938b"
      },
      "execution_count": 232,
      "outputs": [
        {
          "output_type": "execute_result",
          "data": {
            "text/plain": [
              "tensor([[0.3786, 0.2582, 0.9646, 0.5609],\n",
              "        [0.3442, 0.9770, 0.0862, 0.0633],\n",
              "        [0.4598, 0.0424, 0.0914, 0.9365]])"
            ]
          },
          "metadata": {},
          "execution_count": 232
        }
      ]
    },
    {
      "cell_type": "code",
      "source": [
        "random_tensor.ndim"
      ],
      "metadata": {
        "colab": {
          "base_uri": "https://localhost:8080/"
        },
        "id": "cQiWe1nVHh3G",
        "outputId": "79186cf8-91d9-454e-a6b9-b410631fae13"
      },
      "execution_count": 233,
      "outputs": [
        {
          "output_type": "execute_result",
          "data": {
            "text/plain": [
              "2"
            ]
          },
          "metadata": {},
          "execution_count": 233
        }
      ]
    },
    {
      "cell_type": "code",
      "source": [
        "# Create a random tensor with similar shape to an image tensor\n",
        "random_image_size_tensor= torch.rand(size=(224,224,3)) # height, width, colour channels(R,G,B)\n",
        "random_image_size_tensor.shape, random_image_size_tensor.ndim"
      ],
      "metadata": {
        "colab": {
          "base_uri": "https://localhost:8080/"
        },
        "id": "Mbh5NehqHteu",
        "outputId": "4924018f-c660-4bd5-9712-2b72c358f425"
      },
      "execution_count": 234,
      "outputs": [
        {
          "output_type": "execute_result",
          "data": {
            "text/plain": [
              "(torch.Size([224, 224, 3]), 3)"
            ]
          },
          "metadata": {},
          "execution_count": 234
        }
      ]
    },
    {
      "cell_type": "code",
      "source": [
        "torch.rand(3,3)"
      ],
      "metadata": {
        "colab": {
          "base_uri": "https://localhost:8080/"
        },
        "id": "zaLNjD-iIyu_",
        "outputId": "4b5341f9-22ca-4aba-999a-cf552af459a1"
      },
      "execution_count": 235,
      "outputs": [
        {
          "output_type": "execute_result",
          "data": {
            "text/plain": [
              "tensor([[0.2864, 0.4549, 0.5208],\n",
              "        [0.8938, 0.8779, 0.3574],\n",
              "        [0.6307, 0.6580, 0.6022]])"
            ]
          },
          "metadata": {},
          "execution_count": 235
        }
      ]
    },
    {
      "cell_type": "markdown",
      "source": [
        "# Zeros and Ones"
      ],
      "metadata": {
        "id": "Z3sRzrs6F7YN"
      }
    },
    {
      "cell_type": "code",
      "source": [
        "#create a tensor of all zeros\n",
        "zeros = torch.zeros(3,4)\n",
        "zeros"
      ],
      "metadata": {
        "colab": {
          "base_uri": "https://localhost:8080/"
        },
        "id": "5RsIswSLF22X",
        "outputId": "fd44e7c8-c552-4164-b7f2-0cd5fe3e555a"
      },
      "execution_count": 236,
      "outputs": [
        {
          "output_type": "execute_result",
          "data": {
            "text/plain": [
              "tensor([[0., 0., 0., 0.],\n",
              "        [0., 0., 0., 0.],\n",
              "        [0., 0., 0., 0.]])"
            ]
          },
          "metadata": {},
          "execution_count": 236
        }
      ]
    },
    {
      "cell_type": "code",
      "source": [
        "#create a tenzors of all Ones\n",
        "ones = torch.ones(3,4)\n",
        "ones"
      ],
      "metadata": {
        "colab": {
          "base_uri": "https://localhost:8080/"
        },
        "id": "kRuS15LXGWhA",
        "outputId": "aafae23c-a081-4c42-9e66-499d740639cf"
      },
      "execution_count": 237,
      "outputs": [
        {
          "output_type": "execute_result",
          "data": {
            "text/plain": [
              "tensor([[1., 1., 1., 1.],\n",
              "        [1., 1., 1., 1.],\n",
              "        [1., 1., 1., 1.]])"
            ]
          },
          "metadata": {},
          "execution_count": 237
        }
      ]
    },
    {
      "cell_type": "code",
      "source": [
        "ones.dtype"
      ],
      "metadata": {
        "colab": {
          "base_uri": "https://localhost:8080/"
        },
        "id": "zfSlU6quGrvC",
        "outputId": "c0c744af-a5fa-49fe-cb3a-3b02c142807c"
      },
      "execution_count": 238,
      "outputs": [
        {
          "output_type": "execute_result",
          "data": {
            "text/plain": [
              "torch.float32"
            ]
          },
          "metadata": {},
          "execution_count": 238
        }
      ]
    },
    {
      "cell_type": "code",
      "source": [
        "random_tensor.dtype"
      ],
      "metadata": {
        "colab": {
          "base_uri": "https://localhost:8080/"
        },
        "id": "BZ28iyckG3bE",
        "outputId": "7fb39cbf-cc4c-4a5a-ad93-51a0764a977f"
      },
      "execution_count": 239,
      "outputs": [
        {
          "output_type": "execute_result",
          "data": {
            "text/plain": [
              "torch.float32"
            ]
          },
          "metadata": {},
          "execution_count": 239
        }
      ]
    },
    {
      "cell_type": "markdown",
      "source": [
        "# Creating a range of tensor and tensor-like"
      ],
      "metadata": {
        "id": "DOCbjUsaHPto"
      }
    },
    {
      "cell_type": "code",
      "source": [
        "# use torch.range\n",
        "torch.range(0, 10)"
      ],
      "metadata": {
        "colab": {
          "base_uri": "https://localhost:8080/"
        },
        "id": "MT3b-GdTG-dH",
        "outputId": "6d4c1bc7-b28e-43cc-84d8-a315f73cbddc"
      },
      "execution_count": 240,
      "outputs": [
        {
          "output_type": "stream",
          "name": "stderr",
          "text": [
            "<ipython-input-240-0bc77e01e55b>:2: UserWarning: torch.range is deprecated and will be removed in a future release because its behavior is inconsistent with Python's range builtin. Instead, use torch.arange, which produces values in [start, end).\n",
            "  torch.range(0, 10)\n"
          ]
        },
        {
          "output_type": "execute_result",
          "data": {
            "text/plain": [
              "tensor([ 0.,  1.,  2.,  3.,  4.,  5.,  6.,  7.,  8.,  9., 10.])"
            ]
          },
          "metadata": {},
          "execution_count": 240
        }
      ]
    },
    {
      "cell_type": "markdown",
      "source": [
        "#Note\n",
        "\n",
        "\n",
        "torch.range is deprecated and will be removed in a future release because its behavior is inconsistent with Python's range builtin. Instead, use\n",
        "\n",
        "torch.arange"
      ],
      "metadata": {
        "id": "gplLFJckH1Jr"
      }
    },
    {
      "cell_type": "code",
      "source": [
        "one_to_ten = torch.arange(start=1, end=11, step=1)\n",
        "one_to_ten"
      ],
      "metadata": {
        "colab": {
          "base_uri": "https://localhost:8080/"
        },
        "id": "y0V3nb3tIcVD",
        "outputId": "5dc5184a-f50e-40f3-ccbc-1254c3e3a7df"
      },
      "execution_count": 241,
      "outputs": [
        {
          "output_type": "execute_result",
          "data": {
            "text/plain": [
              "tensor([ 1,  2,  3,  4,  5,  6,  7,  8,  9, 10])"
            ]
          },
          "metadata": {},
          "execution_count": 241
        }
      ]
    },
    {
      "cell_type": "code",
      "source": [
        "#creating tensor like\n",
        "# this function is used to create zeros tensor of the same shape aa assinged tensor to it\n",
        "ten_zeros = torch.zeros_like(input=one_to_ten)\n",
        "ten_zeros"
      ],
      "metadata": {
        "colab": {
          "base_uri": "https://localhost:8080/"
        },
        "id": "xbK72xo1KbvY",
        "outputId": "d5b3a2e8-5d61-4cea-b901-ae0369c7a05f"
      },
      "execution_count": 242,
      "outputs": [
        {
          "output_type": "execute_result",
          "data": {
            "text/plain": [
              "tensor([0, 0, 0, 0, 0, 0, 0, 0, 0, 0])"
            ]
          },
          "metadata": {},
          "execution_count": 242
        }
      ]
    },
    {
      "cell_type": "markdown",
      "source": [
        "# TENSOR DATATYPE\n",
        "\n",
        "To see datatypes go to torch.tensor\n",
        "             or\n"
      ],
      "metadata": {
        "id": "U61ff8szNfBg"
      }
    },
    {
      "cell_type": "markdown",
      "source": [
        "#Note\n",
        "Tensor datatype is one of the 3 big error you'll run into with pytorch & deep learning\n",
        "\n",
        "1. Tensor not right datatype\n",
        "2. Tensor not right shape\n",
        "3. Tensor not on the right device\n",
        "\n"
      ],
      "metadata": {
        "id": "JF7l_GAOhlHI"
      }
    },
    {
      "cell_type": "code",
      "source": [
        "# float 32 tensor\n",
        "float_32_tensor = torch.tensor([3.0, 6.0, 9.0],\n",
        "                               dtype= None, # what datatype is the tennsor(e.g float32 or float16)\n",
        "                               device=None, # what device is your tensor on\n",
        "                                requires_grad=False) #whether or not to trace gradients with this tensor operations\n",
        "float_32_tensor"
      ],
      "metadata": {
        "colab": {
          "base_uri": "https://localhost:8080/"
        },
        "id": "JIE24xs4MQP8",
        "outputId": "2ccc4bfd-d7bd-4a82-bbcf-6692f676c692"
      },
      "execution_count": 243,
      "outputs": [
        {
          "output_type": "execute_result",
          "data": {
            "text/plain": [
              "tensor([3., 6., 9.])"
            ]
          },
          "metadata": {},
          "execution_count": 243
        }
      ]
    },
    {
      "cell_type": "code",
      "source": [
        "float_32_tensor.dtype"
      ],
      "metadata": {
        "colab": {
          "base_uri": "https://localhost:8080/"
        },
        "id": "c5SGdH0TTBhc",
        "outputId": "bd7681cf-8ddd-48af-bb8d-a2eea66098eb"
      },
      "execution_count": 244,
      "outputs": [
        {
          "output_type": "execute_result",
          "data": {
            "text/plain": [
              "torch.float32"
            ]
          },
          "metadata": {},
          "execution_count": 244
        }
      ]
    },
    {
      "cell_type": "code",
      "source": [
        "float_16_tensor = float_32_tensor.type(torch.float16)\n",
        "float_16_tensor"
      ],
      "metadata": {
        "colab": {
          "base_uri": "https://localhost:8080/"
        },
        "id": "UcSo0Wm7i9a9",
        "outputId": "34f96db1-0162-449a-8a5c-122b91502aba"
      },
      "execution_count": 245,
      "outputs": [
        {
          "output_type": "execute_result",
          "data": {
            "text/plain": [
              "tensor([3., 6., 9.], dtype=torch.float16)"
            ]
          },
          "metadata": {},
          "execution_count": 245
        }
      ]
    },
    {
      "cell_type": "code",
      "source": [
        "float_16_tensor * float_32_tensor"
      ],
      "metadata": {
        "colab": {
          "base_uri": "https://localhost:8080/"
        },
        "id": "Fy0mkZNTjWbn",
        "outputId": "1d987b5d-5255-470d-bca6-0d0ae95c21a8"
      },
      "execution_count": 246,
      "outputs": [
        {
          "output_type": "execute_result",
          "data": {
            "text/plain": [
              "tensor([ 9., 36., 81.])"
            ]
          },
          "metadata": {},
          "execution_count": 246
        }
      ]
    },
    {
      "cell_type": "code",
      "source": [
        "int_32_tensor = torch.tensor([3, 6, 9], dtype=torch.int32)\n",
        "int_32_tensor"
      ],
      "metadata": {
        "colab": {
          "base_uri": "https://localhost:8080/"
        },
        "id": "VZcZzMsDjxuM",
        "outputId": "87899486-e061-4783-de40-0c34dec9a438"
      },
      "execution_count": 247,
      "outputs": [
        {
          "output_type": "execute_result",
          "data": {
            "text/plain": [
              "tensor([3, 6, 9], dtype=torch.int32)"
            ]
          },
          "metadata": {},
          "execution_count": 247
        }
      ]
    },
    {
      "cell_type": "code",
      "source": [
        "float_32_tensor * int_32_tensor"
      ],
      "metadata": {
        "colab": {
          "base_uri": "https://localhost:8080/"
        },
        "id": "mzfrE2LkkQi0",
        "outputId": "e1310aa4-a615-4fd0-e21f-e4ffcd4748e1"
      },
      "execution_count": 248,
      "outputs": [
        {
          "output_type": "execute_result",
          "data": {
            "text/plain": [
              "tensor([ 9., 36., 81.])"
            ]
          },
          "metadata": {},
          "execution_count": 248
        }
      ]
    },
    {
      "cell_type": "markdown",
      "source": [
        "# Getting information from tensors (tensor attributes)\n",
        "\n",
        "\n",
        "1. Tensor not right datatype - to get datatype from a tensor, can use `tensor.dtype`\n",
        "2. Tensor not right shape - to get shape from tensor we can use `tensor.shape`\n",
        "3. Tensor not on the right device - to get device(CPU/ GPU) from tensor we can use `tensor.device`"
      ],
      "metadata": {
        "id": "vxuxJYe2kzJG"
      }
    },
    {
      "cell_type": "code",
      "source": [
        "# create a tensor\n",
        "some_tensor = torch.rand(3, 4)\n",
        "print(some_tensor)"
      ],
      "metadata": {
        "colab": {
          "base_uri": "https://localhost:8080/"
        },
        "id": "oidltxr8kgUY",
        "outputId": "75b69010-196f-4603-81f2-c78eeceee50c"
      },
      "execution_count": 249,
      "outputs": [
        {
          "output_type": "stream",
          "name": "stdout",
          "text": [
            "tensor([[0.6925, 0.2841, 0.3302, 0.3379],\n",
            "        [0.2384, 0.5405, 0.7805, 0.7742],\n",
            "        [0.6585, 0.6603, 0.6430, 0.1857]])\n"
          ]
        }
      ]
    },
    {
      "cell_type": "code",
      "source": [
        "# find out detail about some tensor\n",
        "print(some_tensor)\n",
        "print(f\"datatype of tensor : {some_tensor.dtype}\")\n",
        "print(f\"shape of tensor: {some_tensor.shape}\")\n",
        "print(f\"Device tensor is on : {some_tensor.device}\")"
      ],
      "metadata": {
        "colab": {
          "base_uri": "https://localhost:8080/"
        },
        "id": "-WXkD62ymHpv",
        "outputId": "4994022b-df9b-44b4-ae22-64b9f48a7280"
      },
      "execution_count": 250,
      "outputs": [
        {
          "output_type": "stream",
          "name": "stdout",
          "text": [
            "tensor([[0.6925, 0.2841, 0.3302, 0.3379],\n",
            "        [0.2384, 0.5405, 0.7805, 0.7742],\n",
            "        [0.6585, 0.6603, 0.6430, 0.1857]])\n",
            "datatype of tensor : torch.float32\n",
            "shape of tensor: torch.Size([3, 4])\n",
            "Device tensor is on : cpu\n"
          ]
        }
      ]
    },
    {
      "cell_type": "markdown",
      "source": [
        "# Manipulating Tensors (tensor operations)\n",
        "\n",
        "Tensor operation includes :\n",
        " + Additions\n",
        " - Subtractions\n",
        " * multiplication (element-wise)\n",
        " * Division\n",
        " * Matrix multiplication\n",
        "\n",
        "\n"
      ],
      "metadata": {
        "id": "jcYxTG-Mn7ye"
      }
    },
    {
      "cell_type": "code",
      "source": [
        "# create a tensor and add 10 to it\n",
        "tensor = torch.tensor([1, 2, 3])\n",
        "tensor + 10"
      ],
      "metadata": {
        "colab": {
          "base_uri": "https://localhost:8080/"
        },
        "id": "85jx4C_vnoO2",
        "outputId": "22637602-8acd-4fac-8f5a-d6e1f2f143be"
      },
      "execution_count": 251,
      "outputs": [
        {
          "output_type": "execute_result",
          "data": {
            "text/plain": [
              "tensor([11, 12, 13])"
            ]
          },
          "metadata": {},
          "execution_count": 251
        }
      ]
    },
    {
      "cell_type": "code",
      "source": [
        "# Multiple tensor by 10\n",
        "tensor * 10"
      ],
      "metadata": {
        "colab": {
          "base_uri": "https://localhost:8080/"
        },
        "id": "ICpxC1rCp4pw",
        "outputId": "667a0b93-623e-4dea-9c4b-dd19ee9374b9"
      },
      "execution_count": 252,
      "outputs": [
        {
          "output_type": "execute_result",
          "data": {
            "text/plain": [
              "tensor([10, 20, 30])"
            ]
          },
          "metadata": {},
          "execution_count": 252
        }
      ]
    },
    {
      "cell_type": "code",
      "source": [
        "tensor"
      ],
      "metadata": {
        "colab": {
          "base_uri": "https://localhost:8080/"
        },
        "id": "f9Op2Iq7qE0k",
        "outputId": "9422b2b2-2576-4ea0-8ef8-2afaae4a8d82"
      },
      "execution_count": 253,
      "outputs": [
        {
          "output_type": "execute_result",
          "data": {
            "text/plain": [
              "tensor([1, 2, 3])"
            ]
          },
          "metadata": {},
          "execution_count": 253
        }
      ]
    },
    {
      "cell_type": "code",
      "source": [
        "# Subtract 10\n",
        "tensor - 10"
      ],
      "metadata": {
        "colab": {
          "base_uri": "https://localhost:8080/"
        },
        "id": "V1Tamn5iqH_5",
        "outputId": "86a1e9d6-23d3-4217-f153-588083e96722"
      },
      "execution_count": 254,
      "outputs": [
        {
          "output_type": "execute_result",
          "data": {
            "text/plain": [
              "tensor([-9, -8, -7])"
            ]
          },
          "metadata": {},
          "execution_count": 254
        }
      ]
    },
    {
      "cell_type": "code",
      "source": [
        "# Try out python in built funtions\n",
        "torch.mul(tensor, 10)"
      ],
      "metadata": {
        "colab": {
          "base_uri": "https://localhost:8080/"
        },
        "id": "GAS4qMiOqTBz",
        "outputId": "5a3eb04f-4527-44be-dbdf-e5248597a283"
      },
      "execution_count": 255,
      "outputs": [
        {
          "output_type": "execute_result",
          "data": {
            "text/plain": [
              "tensor([10, 20, 30])"
            ]
          },
          "metadata": {},
          "execution_count": 255
        }
      ]
    },
    {
      "cell_type": "code",
      "source": [
        "torch.add(tensor, 10)"
      ],
      "metadata": {
        "colab": {
          "base_uri": "https://localhost:8080/"
        },
        "id": "0uAxBXF6qrS0",
        "outputId": "b97f4c5b-2e80-4930-90e1-dc055a18aa01"
      },
      "execution_count": 256,
      "outputs": [
        {
          "output_type": "execute_result",
          "data": {
            "text/plain": [
              "tensor([11, 12, 13])"
            ]
          },
          "metadata": {},
          "execution_count": 256
        }
      ]
    },
    {
      "cell_type": "markdown",
      "source": [
        "#Matrix Multiplication\n",
        "\n",
        "Two main ways of performing multiplication in nureal networks and deep learning\n",
        "\n",
        "\n",
        "* Element-wise multiplication\n",
        "* Matrix Multiplication(dot product)"
      ],
      "metadata": {
        "id": "LEVteY8CjSfd"
      }
    },
    {
      "cell_type": "markdown",
      "source": [
        "There are two main rules that performing matrix multiplication needs to satisfy :\n",
        "\n",
        "( 1 )  **INNER DIMENSIONS** must match:\n",
        "\n",
        "* `(3, 2) @ (2,3)` this will work\n",
        "* `(2, 3) @ (3'2)` This will work\n",
        "* `(3, 2) @ (3,2)` This wont work\n"
      ],
      "metadata": {
        "id": "MAhFLCejpuaP"
      }
    },
    {
      "cell_type": "markdown",
      "source": [
        "(2) The resulting matrix has the shape of ** Outer dimensions**:\n",
        "\n",
        "* `(2,3) @ (3,2)` -> `(2, 2)`\n",
        "* `(3,2) @ (2,3)` -> `(3, 3)`\n",
        "\n"
      ],
      "metadata": {
        "id": "HB159Z31smy9"
      }
    },
    {
      "cell_type": "code",
      "source": [
        "#torch.matmul(torch.rand(3,2), torch.rand(3,2))\n",
        "\n",
        "# most common error in ml"
      ],
      "metadata": {
        "id": "U0s1whSOru_L"
      },
      "execution_count": 257,
      "outputs": []
    },
    {
      "cell_type": "code",
      "source": [
        "torch.matmul(torch.rand(3,2), torch.rand(2,3))"
      ],
      "metadata": {
        "colab": {
          "base_uri": "https://localhost:8080/"
        },
        "id": "rwZcJwFKsO96",
        "outputId": "7a5ea1c2-5201-4b6f-d342-b9c9f7fa94c6"
      },
      "execution_count": 258,
      "outputs": [
        {
          "output_type": "execute_result",
          "data": {
            "text/plain": [
              "tensor([[0.4329, 1.0485, 1.0560],\n",
              "        [0.3908, 0.9060, 0.9096],\n",
              "        [0.4808, 0.6444, 0.6125]])"
            ]
          },
          "metadata": {},
          "execution_count": 258
        }
      ]
    },
    {
      "cell_type": "code",
      "source": [
        "# Element wise multiplication\n",
        "print (tensor, \"*\", tensor)\n",
        "print(f\"Equals : {tensor * tensor }\")"
      ],
      "metadata": {
        "colab": {
          "base_uri": "https://localhost:8080/"
        },
        "id": "U0a9zu4vjQeV",
        "outputId": "ef8f76ca-5d2a-4743-d679-d863187c74e3"
      },
      "execution_count": 259,
      "outputs": [
        {
          "output_type": "stream",
          "name": "stdout",
          "text": [
            "tensor([1, 2, 3]) * tensor([1, 2, 3])\n",
            "Equals : tensor([1, 4, 9])\n"
          ]
        }
      ]
    },
    {
      "cell_type": "code",
      "source": [
        "# Matrix Multiplication\n",
        "torch.matmul(tensor, tensor)"
      ],
      "metadata": {
        "colab": {
          "base_uri": "https://localhost:8080/"
        },
        "id": "srFo2Vhvn07P",
        "outputId": "dc059b19-c103-4ae0-e608-3a2f980511b4"
      },
      "execution_count": 260,
      "outputs": [
        {
          "output_type": "execute_result",
          "data": {
            "text/plain": [
              "tensor(14)"
            ]
          },
          "metadata": {},
          "execution_count": 260
        }
      ]
    },
    {
      "cell_type": "code",
      "source": [
        "# Matrix multiplication by hand\n",
        "(1*1) + (2*2) + (3*3)"
      ],
      "metadata": {
        "colab": {
          "base_uri": "https://localhost:8080/"
        },
        "id": "HpRNO6PloLiE",
        "outputId": "79ebed1d-f30f-43cd-8f61-1994579015f9"
      },
      "execution_count": 261,
      "outputs": [
        {
          "output_type": "execute_result",
          "data": {
            "text/plain": [
              "14"
            ]
          },
          "metadata": {},
          "execution_count": 261
        }
      ]
    },
    {
      "cell_type": "code",
      "source": [
        "tensor @ tensor"
      ],
      "metadata": {
        "colab": {
          "base_uri": "https://localhost:8080/"
        },
        "id": "zIaqB7qCqUG3",
        "outputId": "919ab541-8d51-4ea7-d9a6-4676688311bc"
      },
      "execution_count": 262,
      "outputs": [
        {
          "output_type": "execute_result",
          "data": {
            "text/plain": [
              "tensor(14)"
            ]
          },
          "metadata": {},
          "execution_count": 262
        }
      ]
    },
    {
      "cell_type": "code",
      "source": [
        "%%time\n",
        "value = 0\n",
        "for i in range(len(tensor)) :\n",
        "  value += tensor[i] * tensor[i]\n",
        "value"
      ],
      "metadata": {
        "colab": {
          "base_uri": "https://localhost:8080/"
        },
        "id": "HTodMJ8yoaMZ",
        "outputId": "1705f7db-72d2-4187-b156-b629ed1cb24c"
      },
      "execution_count": 263,
      "outputs": [
        {
          "output_type": "stream",
          "name": "stdout",
          "text": [
            "CPU times: user 234 µs, sys: 0 ns, total: 234 µs\n",
            "Wall time: 241 µs\n"
          ]
        },
        {
          "output_type": "execute_result",
          "data": {
            "text/plain": [
              "tensor(14)"
            ]
          },
          "metadata": {},
          "execution_count": 263
        }
      ]
    },
    {
      "cell_type": "code",
      "source": [
        "%%time\n",
        "torch.matmul(tensor, tensor)"
      ],
      "metadata": {
        "colab": {
          "base_uri": "https://localhost:8080/"
        },
        "id": "jRSSFkdJow0a",
        "outputId": "02ed7034-933b-47ea-a2ae-287afcdd279a"
      },
      "execution_count": 264,
      "outputs": [
        {
          "output_type": "stream",
          "name": "stdout",
          "text": [
            "CPU times: user 0 ns, sys: 196 µs, total: 196 µs\n",
            "Wall time: 518 µs\n"
          ]
        },
        {
          "output_type": "execute_result",
          "data": {
            "text/plain": [
              "tensor(14)"
            ]
          },
          "metadata": {},
          "execution_count": 264
        }
      ]
    },
    {
      "cell_type": "markdown",
      "source": [
        "#one of most common error in deep learning : shape error"
      ],
      "metadata": {
        "id": "TM68oMYJpS5r"
      }
    },
    {
      "cell_type": "code",
      "source": [
        "#shapes for matrix multiplication\n",
        "tensor_A = torch.tensor([[1,2],\n",
        "                         [3,4],\n",
        "                         [5,6]])\n",
        "tensor_B =torch.tensor([[7,10],\n",
        "                        [8,11],\n",
        "                        [9,12]])"
      ],
      "metadata": {
        "id": "-aCJTP3No3ys"
      },
      "execution_count": 265,
      "outputs": []
    },
    {
      "cell_type": "code",
      "source": [
        "tensor_A.shape"
      ],
      "metadata": {
        "colab": {
          "base_uri": "https://localhost:8080/"
        },
        "id": "bBc7RSKo1BbX",
        "outputId": "28b560bd-3d79-4e6b-e631-9d07f76db1b0"
      },
      "execution_count": 266,
      "outputs": [
        {
          "output_type": "execute_result",
          "data": {
            "text/plain": [
              "torch.Size([3, 2])"
            ]
          },
          "metadata": {},
          "execution_count": 266
        }
      ]
    },
    {
      "cell_type": "code",
      "source": [
        "tensor_B.shape"
      ],
      "metadata": {
        "colab": {
          "base_uri": "https://localhost:8080/"
        },
        "id": "zV5lkExf1FVD",
        "outputId": "b2cb0492-8d6d-48ac-b872-4dd88dc6c6a3"
      },
      "execution_count": 267,
      "outputs": [
        {
          "output_type": "execute_result",
          "data": {
            "text/plain": [
              "torch.Size([3, 2])"
            ]
          },
          "metadata": {},
          "execution_count": 267
        }
      ]
    },
    {
      "cell_type": "code",
      "source": [
        "#torch.mm(tensor_A, tensor_B) # torch.mm is the same as torch.matmul(it's an alias for writing less code)"
      ],
      "metadata": {
        "id": "Gz0IaL_e0HqI"
      },
      "execution_count": 268,
      "outputs": []
    },
    {
      "cell_type": "markdown",
      "source": [
        "To fix out tensor shape issues, we can manipulate the shape of one of our tensors using a **Transpose**"
      ],
      "metadata": {
        "id": "zr14R30_1erm"
      }
    },
    {
      "cell_type": "markdown",
      "source": [
        "A **Transpose** switches the axis or dimensions of a given tensor"
      ],
      "metadata": {
        "id": "yJfwb-Hx1__e"
      }
    },
    {
      "cell_type": "code",
      "source": [
        "tensor_B, tensor_B.shape"
      ],
      "metadata": {
        "colab": {
          "base_uri": "https://localhost:8080/"
        },
        "id": "vV845kWX0Udv",
        "outputId": "6b35c765-ec2c-40c2-80f9-4f693d92388a"
      },
      "execution_count": 269,
      "outputs": [
        {
          "output_type": "execute_result",
          "data": {
            "text/plain": [
              "(tensor([[ 7, 10],\n",
              "         [ 8, 11],\n",
              "         [ 9, 12]]),\n",
              " torch.Size([3, 2]))"
            ]
          },
          "metadata": {},
          "execution_count": 269
        }
      ]
    },
    {
      "cell_type": "code",
      "source": [
        "tensor_B.T, tensor_B.T.shape"
      ],
      "metadata": {
        "colab": {
          "base_uri": "https://localhost:8080/"
        },
        "id": "MljpOaJM2WjJ",
        "outputId": "692009a3-a571-4ce5-960f-b58699b50afc"
      },
      "execution_count": 270,
      "outputs": [
        {
          "output_type": "execute_result",
          "data": {
            "text/plain": [
              "(tensor([[ 7,  8,  9],\n",
              "         [10, 11, 12]]),\n",
              " torch.Size([2, 3]))"
            ]
          },
          "metadata": {},
          "execution_count": 270
        }
      ]
    },
    {
      "cell_type": "code",
      "source": [
        "torch.matmul(tensor_A, tensor_B.T).shape"
      ],
      "metadata": {
        "colab": {
          "base_uri": "https://localhost:8080/"
        },
        "id": "mFF7aORV-KCd",
        "outputId": "2a720881-1351-45f2-c4d6-93e9abc31af3"
      },
      "execution_count": 271,
      "outputs": [
        {
          "output_type": "execute_result",
          "data": {
            "text/plain": [
              "torch.Size([3, 3])"
            ]
          },
          "metadata": {},
          "execution_count": 271
        }
      ]
    },
    {
      "cell_type": "code",
      "source": [
        "# The matrix multiplication operation works when tensor_B is transposed\n",
        "print(f\"Orignnal shape: tensor_A = {tensor_A.shape}, tensor_B = {tensor_B.shape}\")\n",
        "print(f\"New shapes : tensor_A = {tensor_A.shape} (same shape as above), tensor_B.T = {tensor_B.T.shape} \")\n",
        "print(f\"Multiplying : {tensor_A.shape} @ {tensor_B.T.shape} <- inner dimension match\")\n",
        "print(\"Output:\\n\")\n",
        "Output = torch.matmul(tensor_A, tensor_B.T)\n",
        "print(Output)\n",
        "print(f\"\\noutput shape : {Output.shape}\")\n",
        "\n"
      ],
      "metadata": {
        "colab": {
          "base_uri": "https://localhost:8080/"
        },
        "id": "UqZyIw6M366n",
        "outputId": "02bd4f7e-ecf4-41e4-9491-bf7906ab9cb2"
      },
      "execution_count": 272,
      "outputs": [
        {
          "output_type": "stream",
          "name": "stdout",
          "text": [
            "Orignnal shape: tensor_A = torch.Size([3, 2]), tensor_B = torch.Size([3, 2])\n",
            "New shapes : tensor_A = torch.Size([3, 2]) (same shape as above), tensor_B.T = torch.Size([2, 3]) \n",
            "Multiplying : torch.Size([3, 2]) @ torch.Size([2, 3]) <- inner dimension match\n",
            "Output:\n",
            "\n",
            "tensor([[ 27,  30,  33],\n",
            "        [ 61,  68,  75],\n",
            "        [ 95, 106, 117]])\n",
            "\n",
            "output shape : torch.Size([3, 3])\n"
          ]
        }
      ]
    },
    {
      "cell_type": "markdown",
      "source": [
        "# Finding the min, max, mean, sum, etc(tensor aggregation)"
      ],
      "metadata": {
        "id": "uWk-gywZ-oEv"
      }
    },
    {
      "cell_type": "code",
      "source": [
        "# create a tensor\n",
        "x = torch.arange(1, 100, 10)\n",
        "x"
      ],
      "metadata": {
        "colab": {
          "base_uri": "https://localhost:8080/"
        },
        "id": "rcBj26TE4Oxf",
        "outputId": "fd2747d7-8acd-4454-e9fb-93147a5c9225"
      },
      "execution_count": 273,
      "outputs": [
        {
          "output_type": "execute_result",
          "data": {
            "text/plain": [
              "tensor([ 1, 11, 21, 31, 41, 51, 61, 71, 81, 91])"
            ]
          },
          "metadata": {},
          "execution_count": 273
        }
      ]
    },
    {
      "cell_type": "code",
      "source": [
        "x.dtype"
      ],
      "metadata": {
        "colab": {
          "base_uri": "https://localhost:8080/"
        },
        "id": "TrOuCyJ3_5G0",
        "outputId": "0bcc75c1-f63a-4e8d-bfc9-7ae833b50ebe"
      },
      "execution_count": 274,
      "outputs": [
        {
          "output_type": "execute_result",
          "data": {
            "text/plain": [
              "torch.int64"
            ]
          },
          "metadata": {},
          "execution_count": 274
        }
      ]
    },
    {
      "cell_type": "code",
      "source": [
        "#Find the min\n",
        "torch.min(x)"
      ],
      "metadata": {
        "colab": {
          "base_uri": "https://localhost:8080/"
        },
        "id": "orMHtJnq_VNu",
        "outputId": "b2b2c510-e0bd-4a35-b323-06aeca3188f7"
      },
      "execution_count": 275,
      "outputs": [
        {
          "output_type": "execute_result",
          "data": {
            "text/plain": [
              "tensor(1)"
            ]
          },
          "metadata": {},
          "execution_count": 275
        }
      ]
    },
    {
      "cell_type": "code",
      "source": [
        "# Find the max\n",
        "torch.max(x)"
      ],
      "metadata": {
        "colab": {
          "base_uri": "https://localhost:8080/"
        },
        "id": "jB5b4pxE_b0H",
        "outputId": "6d821e6e-f4a7-4813-889c-9eada5f136c3"
      },
      "execution_count": 276,
      "outputs": [
        {
          "output_type": "execute_result",
          "data": {
            "text/plain": [
              "tensor(91)"
            ]
          },
          "metadata": {},
          "execution_count": 276
        }
      ]
    },
    {
      "cell_type": "code",
      "source": [
        "# Find the mean\n",
        "#torch.mean(x) this cannot run with long datatype we need to change it to other datatype\n",
        "torch.mean(x.type(torch.float32))"
      ],
      "metadata": {
        "colab": {
          "base_uri": "https://localhost:8080/"
        },
        "id": "mabRmxIs_hgP",
        "outputId": "fcddd26a-4d9f-4974-93e9-d7fc54d688d1"
      },
      "execution_count": 277,
      "outputs": [
        {
          "output_type": "execute_result",
          "data": {
            "text/plain": [
              "tensor(46.)"
            ]
          },
          "metadata": {},
          "execution_count": 277
        }
      ]
    },
    {
      "cell_type": "markdown",
      "source": [
        "#Note:\n",
        "the `torch.mean()` function requires a tensor of flaot31 datatype to work\n"
      ],
      "metadata": {
        "id": "X21LPZGHA_Jm"
      }
    },
    {
      "cell_type": "code",
      "source": [
        "x.type(torch.float32).mean()"
      ],
      "metadata": {
        "colab": {
          "base_uri": "https://localhost:8080/"
        },
        "id": "4rOjI24J_pfJ",
        "outputId": "41791ad8-f23e-4832-c321-7938b87b5533"
      },
      "execution_count": 278,
      "outputs": [
        {
          "output_type": "execute_result",
          "data": {
            "text/plain": [
              "tensor(46.)"
            ]
          },
          "metadata": {},
          "execution_count": 278
        }
      ]
    },
    {
      "cell_type": "code",
      "source": [
        "\n",
        "# Find the sum\n",
        "torch.sum(x), x.sum()"
      ],
      "metadata": {
        "colab": {
          "base_uri": "https://localhost:8080/"
        },
        "id": "BYx3xQHCA3zR",
        "outputId": "d3617632-aa48-46ef-e7b3-1094736f1e30"
      },
      "execution_count": 279,
      "outputs": [
        {
          "output_type": "execute_result",
          "data": {
            "text/plain": [
              "(tensor(460), tensor(460))"
            ]
          },
          "metadata": {},
          "execution_count": 279
        }
      ]
    },
    {
      "cell_type": "markdown",
      "source": [
        "# Finding the positional min and max"
      ],
      "metadata": {
        "id": "Zr3Ppy3YED2m"
      }
    },
    {
      "cell_type": "code",
      "source": [
        "#Find the position in tensor that has the minimum vale with argmin() -> returns index position of target\n",
        "\n",
        "#tensor where the minimum value occurs\n",
        "\n",
        "x.argmin()"
      ],
      "metadata": {
        "colab": {
          "base_uri": "https://localhost:8080/"
        },
        "id": "GGWjShjlBap6",
        "outputId": "db4bcb4c-ca29-4611-8a7b-1488db191f8f"
      },
      "execution_count": 280,
      "outputs": [
        {
          "output_type": "execute_result",
          "data": {
            "text/plain": [
              "tensor(0)"
            ]
          },
          "metadata": {},
          "execution_count": 280
        }
      ]
    },
    {
      "cell_type": "code",
      "source": [
        "x[0]"
      ],
      "metadata": {
        "colab": {
          "base_uri": "https://localhost:8080/"
        },
        "id": "CwF2Hc6lF31A",
        "outputId": "e8e5d2b9-8a0e-4d9c-85ae-c06c6ba7b611"
      },
      "execution_count": 281,
      "outputs": [
        {
          "output_type": "execute_result",
          "data": {
            "text/plain": [
              "tensor(1)"
            ]
          },
          "metadata": {},
          "execution_count": 281
        }
      ]
    },
    {
      "cell_type": "code",
      "source": [
        "# Find the position in tensor that has the maximum vale with argmax() -> returns index position of target\n",
        "\n",
        "#tensor where the maximum value occurs\n",
        "\n",
        "torch.argmax(x)"
      ],
      "metadata": {
        "colab": {
          "base_uri": "https://localhost:8080/"
        },
        "id": "d30QK1IYENoS",
        "outputId": "9b06fc17-ee41-4f0c-b4db-e31714b71401"
      },
      "execution_count": 282,
      "outputs": [
        {
          "output_type": "execute_result",
          "data": {
            "text/plain": [
              "tensor(9)"
            ]
          },
          "metadata": {},
          "execution_count": 282
        }
      ]
    },
    {
      "cell_type": "code",
      "source": [
        "x[9]"
      ],
      "metadata": {
        "colab": {
          "base_uri": "https://localhost:8080/"
        },
        "id": "CfYQyZ9DEU13",
        "outputId": "3ce97022-b854-423c-e6e7-4349cd47ccbf"
      },
      "execution_count": 283,
      "outputs": [
        {
          "output_type": "execute_result",
          "data": {
            "text/plain": [
              "tensor(91)"
            ]
          },
          "metadata": {},
          "execution_count": 283
        }
      ]
    },
    {
      "cell_type": "markdown",
      "source": [
        "#Reshaping, Stacking, squeezing and unsqueezing tensor"
      ],
      "metadata": {
        "id": "KtMU5wpCLdVW"
      }
    },
    {
      "cell_type": "markdown",
      "source": [
        "* Reshaping - reshape an input to a defined shape\n",
        "* view - return an input tensor of certain shape but keep the same memory as the original tensor\n",
        "* stacking - combine multiple tensor on top of each other (vstack - vertical stack) or side by side (hstack - horizontal stack)\n",
        "* squeeze- remove all `1` dimensions from a tensor\n",
        "* unsqueeze - add a `1` dimension to a target tensor\n",
        "* permute - return a view of the input with dimensions permuted (swapped) in a certain way"
      ],
      "metadata": {
        "id": "cn7tY1JcLsuZ"
      }
    },
    {
      "cell_type": "code",
      "source": [
        "# let's create a tensor\n",
        "import torch\n",
        "x = torch.arange(1., 10.)\n",
        "x, x.shape"
      ],
      "metadata": {
        "colab": {
          "base_uri": "https://localhost:8080/"
        },
        "id": "5Rcp9KbRLcZL",
        "outputId": "72d85a2a-d678-4f2e-a4a8-6f384e7f7822"
      },
      "execution_count": 284,
      "outputs": [
        {
          "output_type": "execute_result",
          "data": {
            "text/plain": [
              "(tensor([1., 2., 3., 4., 5., 6., 7., 8., 9.]), torch.Size([9]))"
            ]
          },
          "metadata": {},
          "execution_count": 284
        }
      ]
    },
    {
      "cell_type": "code",
      "source": [
        "# adda an extra dimension\n",
        "x_reshaped = x.reshape(1,9)\n",
        "x_reshaped, x_reshaped.shape\n"
      ],
      "metadata": {
        "colab": {
          "base_uri": "https://localhost:8080/"
        },
        "id": "JQK7ycrbLcVu",
        "outputId": "20571930-d375-4d76-a333-09228498c67b"
      },
      "execution_count": 285,
      "outputs": [
        {
          "output_type": "execute_result",
          "data": {
            "text/plain": [
              "(tensor([[1., 2., 3., 4., 5., 6., 7., 8., 9.]]), torch.Size([1, 9]))"
            ]
          },
          "metadata": {},
          "execution_count": 285
        }
      ]
    },
    {
      "cell_type": "code",
      "source": [
        "# change the view\n",
        "z = x.view(1, 9)\n",
        "z, z.shape"
      ],
      "metadata": {
        "id": "dFcnP0yzF7uH",
        "colab": {
          "base_uri": "https://localhost:8080/"
        },
        "outputId": "32f0f4f9-e46a-4f34-dffd-a03f7a66814d"
      },
      "execution_count": 286,
      "outputs": [
        {
          "output_type": "execute_result",
          "data": {
            "text/plain": [
              "(tensor([[1., 2., 3., 4., 5., 6., 7., 8., 9.]]), torch.Size([1, 9]))"
            ]
          },
          "metadata": {},
          "execution_count": 286
        }
      ]
    },
    {
      "cell_type": "code",
      "source": [
        "#changing z changes x(because a view of a tensor shares the same memory as the original input)\n",
        "z[:,0] = 5\n",
        "z,x\n"
      ],
      "metadata": {
        "colab": {
          "base_uri": "https://localhost:8080/"
        },
        "id": "Jz_2Xh8GUCQA",
        "outputId": "fc2232e9-d5ed-4b74-cd09-fa7cafacdddc"
      },
      "execution_count": 287,
      "outputs": [
        {
          "output_type": "execute_result",
          "data": {
            "text/plain": [
              "(tensor([[5., 2., 3., 4., 5., 6., 7., 8., 9.]]),\n",
              " tensor([5., 2., 3., 4., 5., 6., 7., 8., 9.]))"
            ]
          },
          "metadata": {},
          "execution_count": 287
        }
      ]
    },
    {
      "cell_type": "code",
      "source": [
        "# Stack tensor on top of each other\n",
        "x_stacked = torch.stack([x,x,x,x], dim=0)\n",
        "x_stacked"
      ],
      "metadata": {
        "colab": {
          "base_uri": "https://localhost:8080/"
        },
        "id": "TCSP-6oiUhun",
        "outputId": "7613a8c7-9698-49b6-b723-1523b76706f5"
      },
      "execution_count": 288,
      "outputs": [
        {
          "output_type": "execute_result",
          "data": {
            "text/plain": [
              "tensor([[5., 2., 3., 4., 5., 6., 7., 8., 9.],\n",
              "        [5., 2., 3., 4., 5., 6., 7., 8., 9.],\n",
              "        [5., 2., 3., 4., 5., 6., 7., 8., 9.],\n",
              "        [5., 2., 3., 4., 5., 6., 7., 8., 9.]])"
            ]
          },
          "metadata": {},
          "execution_count": 288
        }
      ]
    },
    {
      "cell_type": "code",
      "source": [
        "x_stacked = torch.stack([x,x,x,x], dim=1)\n",
        "x_stacked"
      ],
      "metadata": {
        "colab": {
          "base_uri": "https://localhost:8080/"
        },
        "id": "BcGyuQXfUziX",
        "outputId": "aac916da-b680-4c64-d73c-859cadf7296f"
      },
      "execution_count": 289,
      "outputs": [
        {
          "output_type": "execute_result",
          "data": {
            "text/plain": [
              "tensor([[5., 5., 5., 5.],\n",
              "        [2., 2., 2., 2.],\n",
              "        [3., 3., 3., 3.],\n",
              "        [4., 4., 4., 4.],\n",
              "        [5., 5., 5., 5.],\n",
              "        [6., 6., 6., 6.],\n",
              "        [7., 7., 7., 7.],\n",
              "        [8., 8., 8., 8.],\n",
              "        [9., 9., 9., 9.]])"
            ]
          },
          "metadata": {},
          "execution_count": 289
        }
      ]
    },
    {
      "cell_type": "code",
      "source": [
        "# torch.squeeze() - remove all single dimensions from a target tensor\n",
        "x_reshaped.squeeze()"
      ],
      "metadata": {
        "colab": {
          "base_uri": "https://localhost:8080/"
        },
        "id": "hPtwZkSMU81Y",
        "outputId": "cf46b32a-0e02-4298-97b5-914e30d74cb6"
      },
      "execution_count": 290,
      "outputs": [
        {
          "output_type": "execute_result",
          "data": {
            "text/plain": [
              "tensor([5., 2., 3., 4., 5., 6., 7., 8., 9.])"
            ]
          },
          "metadata": {},
          "execution_count": 290
        }
      ]
    },
    {
      "cell_type": "code",
      "source": [
        "x_reshaped.squeeze().shape"
      ],
      "metadata": {
        "colab": {
          "base_uri": "https://localhost:8080/"
        },
        "id": "4OEUn7H-VVN1",
        "outputId": "ff2797d5-ae45-487a-a43d-e3d77a4cc407"
      },
      "execution_count": 291,
      "outputs": [
        {
          "output_type": "execute_result",
          "data": {
            "text/plain": [
              "torch.Size([9])"
            ]
          },
          "metadata": {},
          "execution_count": 291
        }
      ]
    },
    {
      "cell_type": "code",
      "source": [
        "# torch.squeeze() - remove all single dimensions from a target tensor\n",
        "print(f\"perivous tensor :{x_reshaped}\")\n",
        "print(f\"previous shape : {x_reshaped.shape}\")\n",
        "\n",
        "# Remove extra dimensions from x_reshaped\n",
        "x_squeezed = x_reshaped.squeeze()\n",
        "print(f\"\\nNew tensor: {x_squeezed}\")\n",
        "print(f\" new shape : {x_squeezed.shape}\")"
      ],
      "metadata": {
        "colab": {
          "base_uri": "https://localhost:8080/"
        },
        "id": "CSAnhji_VaAh",
        "outputId": "aaeee906-3277-4f2c-e96f-6ef1fded4c09"
      },
      "execution_count": 292,
      "outputs": [
        {
          "output_type": "stream",
          "name": "stdout",
          "text": [
            "perivous tensor :tensor([[5., 2., 3., 4., 5., 6., 7., 8., 9.]])\n",
            "previous shape : torch.Size([1, 9])\n",
            "\n",
            "New tensor: tensor([5., 2., 3., 4., 5., 6., 7., 8., 9.])\n",
            " new shape : torch.Size([9])\n"
          ]
        }
      ]
    },
    {
      "cell_type": "code",
      "source": [
        "#torch.unsqueeze() - adds a single dimension to a target tensor at a specific dim(dimension)\n",
        "print(f\"previous target : {x_squeezed}\")\n",
        "print(f\"previous shape : {x_squeezed.shape}\")\n",
        "\n",
        "# add an extra dimension with unsqueeze\n",
        "x_unsqueezed = x_squeezed.unsqueeze(dim=0)\n",
        "print(f\"\\nNew tensor : {x_unsqueezed}\")\n",
        "print(f\"new shape : {x_unsqueezed.shape}\")"
      ],
      "metadata": {
        "colab": {
          "base_uri": "https://localhost:8080/"
        },
        "id": "1Y7eaXiHaL2K",
        "outputId": "503ffc6b-514f-4e18-9d5d-1987e9f6f78e"
      },
      "execution_count": 293,
      "outputs": [
        {
          "output_type": "stream",
          "name": "stdout",
          "text": [
            "previous target : tensor([5., 2., 3., 4., 5., 6., 7., 8., 9.])\n",
            "previous shape : torch.Size([9])\n",
            "\n",
            "New tensor : tensor([[5., 2., 3., 4., 5., 6., 7., 8., 9.]])\n",
            "new shape : torch.Size([1, 9])\n"
          ]
        }
      ]
    },
    {
      "cell_type": "code",
      "source": [
        "#torch.permute - rearrange3s the dimensions of a target\n",
        "# this is mostly used in image type of probolem\n",
        "x_original = torch.rand(size=(224, 224, 3)) #[height, width,colour_channels]\n",
        "\n",
        "# permute the original tensor to rearange  the axis (or dim) order\n",
        "x_permuted = x_original.permute(2, 0, 1) # shifts axis 0 ->, 1->2, 2->0\n",
        "\n",
        "print(f\"previous shapes : {x_original.shape}\")\n",
        "print(f\"new shape : {x_permuted.shape}\") #[colour_channels, height, width]"
      ],
      "metadata": {
        "colab": {
          "base_uri": "https://localhost:8080/"
        },
        "id": "w7aLY2bbbbZT",
        "outputId": "96e0c931-586c-48b5-cf9a-0bfead5b9a92"
      },
      "execution_count": 294,
      "outputs": [
        {
          "output_type": "stream",
          "name": "stdout",
          "text": [
            "previous shapes : torch.Size([224, 224, 3])\n",
            "new shape : torch.Size([3, 224, 224])\n"
          ]
        }
      ]
    },
    {
      "cell_type": "markdown",
      "source": [
        "#Indexing (selecting data from tensor)"
      ],
      "metadata": {
        "id": "xHKk7lzLds1d"
      }
    },
    {
      "cell_type": "markdown",
      "source": [
        "* indexing with pytorch is similar to indexing with numpy"
      ],
      "metadata": {
        "id": "djxVmojed477"
      }
    },
    {
      "cell_type": "code",
      "source": [
        "# create a tensor\n",
        "import torch\n",
        "x = torch.arange(1, 10).reshape(1,3,3)\n",
        "x, x.shape\n"
      ],
      "metadata": {
        "colab": {
          "base_uri": "https://localhost:8080/"
        },
        "id": "zAZ4YmUVdY90",
        "outputId": "75468ee2-f340-4430-c4e7-f185d83d8cf9"
      },
      "execution_count": 295,
      "outputs": [
        {
          "output_type": "execute_result",
          "data": {
            "text/plain": [
              "(tensor([[[1, 2, 3],\n",
              "          [4, 5, 6],\n",
              "          [7, 8, 9]]]),\n",
              " torch.Size([1, 3, 3]))"
            ]
          },
          "metadata": {},
          "execution_count": 295
        }
      ]
    },
    {
      "cell_type": "code",
      "source": [
        "# Lets index our new tensor\n",
        "x[0]"
      ],
      "metadata": {
        "colab": {
          "base_uri": "https://localhost:8080/"
        },
        "id": "DceJ2mckefYC",
        "outputId": "c0023e64-bd79-48fc-c1b3-152e08a2faf0"
      },
      "execution_count": 296,
      "outputs": [
        {
          "output_type": "execute_result",
          "data": {
            "text/plain": [
              "tensor([[1, 2, 3],\n",
              "        [4, 5, 6],\n",
              "        [7, 8, 9]])"
            ]
          },
          "metadata": {},
          "execution_count": 296
        }
      ]
    },
    {
      "cell_type": "code",
      "source": [
        "# lets index on middle bracket (dim=1)\n",
        "x[0,0]"
      ],
      "metadata": {
        "colab": {
          "base_uri": "https://localhost:8080/"
        },
        "id": "UpKp5-jZev9L",
        "outputId": "a698d4f0-9bfd-4dcd-ca98-f228d14f3b75"
      },
      "execution_count": 297,
      "outputs": [
        {
          "output_type": "execute_result",
          "data": {
            "text/plain": [
              "tensor([1, 2, 3])"
            ]
          },
          "metadata": {},
          "execution_count": 297
        }
      ]
    },
    {
      "cell_type": "code",
      "source": [
        "# lets index on the most inner bracket (last dimension)\n",
        "x[0,0,2]"
      ],
      "metadata": {
        "colab": {
          "base_uri": "https://localhost:8080/"
        },
        "id": "zOQITBm-fIUz",
        "outputId": "c32d9524-44ee-49e8-fda3-95647cd2efba"
      },
      "execution_count": 298,
      "outputs": [
        {
          "output_type": "execute_result",
          "data": {
            "text/plain": [
              "tensor(3)"
            ]
          },
          "metadata": {},
          "execution_count": 298
        }
      ]
    },
    {
      "cell_type": "code",
      "source": [
        "# task index 9\n",
        "x[0,2,2]"
      ],
      "metadata": {
        "colab": {
          "base_uri": "https://localhost:8080/"
        },
        "id": "H_qTfT9Afm7A",
        "outputId": "c1791ce2-15a8-4f51-8c72-8996c3ce4afe"
      },
      "execution_count": 299,
      "outputs": [
        {
          "output_type": "execute_result",
          "data": {
            "text/plain": [
              "tensor(9)"
            ]
          },
          "metadata": {},
          "execution_count": 299
        }
      ]
    },
    {
      "cell_type": "code",
      "source": [
        "# you can also use \":\" to select \"all\" of target dimension\n",
        "x[:,0]"
      ],
      "metadata": {
        "colab": {
          "base_uri": "https://localhost:8080/"
        },
        "id": "pnz_lpXPgekf",
        "outputId": "6cbec387-0adf-4fe9-dac0-ceaf7dab2f8f"
      },
      "execution_count": 300,
      "outputs": [
        {
          "output_type": "execute_result",
          "data": {
            "text/plain": [
              "tensor([[1, 2, 3]])"
            ]
          },
          "metadata": {},
          "execution_count": 300
        }
      ]
    },
    {
      "cell_type": "code",
      "source": [
        "# get all values of 0th and 1st dimension but only index 1 of 2nd dimension\n",
        "x[:,:,1]"
      ],
      "metadata": {
        "colab": {
          "base_uri": "https://localhost:8080/"
        },
        "id": "1Dw2hKHYg68M",
        "outputId": "7fedd2b6-3f10-4981-a7c2-3f3225b66191"
      },
      "execution_count": 301,
      "outputs": [
        {
          "output_type": "execute_result",
          "data": {
            "text/plain": [
              "tensor([[2, 5, 8]])"
            ]
          },
          "metadata": {},
          "execution_count": 301
        }
      ]
    },
    {
      "cell_type": "code",
      "source": [
        "# get all values of the 0 dimension but only the 1 index value of 1st and 2nd dimension\n",
        "x[:,1,1]"
      ],
      "metadata": {
        "colab": {
          "base_uri": "https://localhost:8080/"
        },
        "id": "qA-kEkbbhRGQ",
        "outputId": "b1239b3a-5a94-4eec-83c6-47681c7e0c23"
      },
      "execution_count": 302,
      "outputs": [
        {
          "output_type": "execute_result",
          "data": {
            "text/plain": [
              "tensor([5])"
            ]
          },
          "metadata": {},
          "execution_count": 302
        }
      ]
    },
    {
      "cell_type": "code",
      "source": [
        "# get index 0 of 0th and 1st dimension and all values of 2nd dimension\n",
        "x[0,0,:]"
      ],
      "metadata": {
        "colab": {
          "base_uri": "https://localhost:8080/"
        },
        "id": "Nswxk6B5h3cH",
        "outputId": "b0f9a80e-8c62-4a4d-ef02-ea7cf9580715"
      },
      "execution_count": 303,
      "outputs": [
        {
          "output_type": "execute_result",
          "data": {
            "text/plain": [
              "tensor([1, 2, 3])"
            ]
          },
          "metadata": {},
          "execution_count": 303
        }
      ]
    },
    {
      "cell_type": "code",
      "source": [
        "# index on x to return 3,6,9\n",
        "x[:,:,2]"
      ],
      "metadata": {
        "colab": {
          "base_uri": "https://localhost:8080/"
        },
        "id": "ZRGpLhMwibLC",
        "outputId": "71f48f9f-f6e3-42d6-fb0f-7dd177ed1db5"
      },
      "execution_count": 304,
      "outputs": [
        {
          "output_type": "execute_result",
          "data": {
            "text/plain": [
              "tensor([[3, 6, 9]])"
            ]
          },
          "metadata": {},
          "execution_count": 304
        }
      ]
    },
    {
      "cell_type": "markdown",
      "source": [
        "# Pytorch tensors and NumPy"
      ],
      "metadata": {
        "id": "b6LipRRhjOtf"
      }
    },
    {
      "cell_type": "markdown",
      "source": [
        "* Numpy is a popular scientific python numerical computing libarary\n",
        "* And because of this, pytorch has functionality to interact with it.\n",
        "\n",
        "* Data in numpy , want in pytorch tensor -> `torch.from_numpy(ndarray)`\n",
        "* pytorch tensor to numpy `torch.Tensor.numpy()`"
      ],
      "metadata": {
        "id": "7oclNVGIjb6e"
      }
    },
    {
      "cell_type": "code",
      "source": [
        "# Numpy array to tensor\n",
        "import torch\n",
        "import numpy as np\n",
        "\n",
        "array = np.arange(1.0, 8.0)\n",
        "tensor = torch.from_numpy(array) # when converting from numpy -> pytorch, pytorch reflects numpy's default datatype of float64 unless specified otherwise\n",
        "array, tensor\n",
        "\n"
      ],
      "metadata": {
        "colab": {
          "base_uri": "https://localhost:8080/"
        },
        "id": "NYLxqWHdi4hB",
        "outputId": "811dc454-2653-4cd6-821b-f9506b489d4c"
      },
      "execution_count": 305,
      "outputs": [
        {
          "output_type": "execute_result",
          "data": {
            "text/plain": [
              "(array([1., 2., 3., 4., 5., 6., 7.]),\n",
              " tensor([1., 2., 3., 4., 5., 6., 7.], dtype=torch.float64))"
            ]
          },
          "metadata": {},
          "execution_count": 305
        }
      ]
    },
    {
      "cell_type": "code",
      "source": [
        "array.dtype"
      ],
      "metadata": {
        "colab": {
          "base_uri": "https://localhost:8080/"
        },
        "id": "fKbkzjcZk5-O",
        "outputId": "4c7b56ce-7996-4920-9247-e08a1b4cf5ba"
      },
      "execution_count": 306,
      "outputs": [
        {
          "output_type": "execute_result",
          "data": {
            "text/plain": [
              "dtype('float64')"
            ]
          },
          "metadata": {},
          "execution_count": 306
        }
      ]
    },
    {
      "cell_type": "code",
      "source": [
        "tensor.dtype"
      ],
      "metadata": {
        "colab": {
          "base_uri": "https://localhost:8080/"
        },
        "id": "0vXXIeFdlMkm",
        "outputId": "b0397c30-a19a-47c9-e9c3-039a6a4008c7"
      },
      "execution_count": 307,
      "outputs": [
        {
          "output_type": "execute_result",
          "data": {
            "text/plain": [
              "torch.float64"
            ]
          },
          "metadata": {},
          "execution_count": 307
        }
      ]
    },
    {
      "cell_type": "code",
      "source": [
        "torch.arange(1.0, 8.0).dtype"
      ],
      "metadata": {
        "colab": {
          "base_uri": "https://localhost:8080/"
        },
        "id": "4Eo9VOZXlQa4",
        "outputId": "62599c70-44ba-4e15-a639-890bd2071dbe"
      },
      "execution_count": 308,
      "outputs": [
        {
          "output_type": "execute_result",
          "data": {
            "text/plain": [
              "torch.float32"
            ]
          },
          "metadata": {},
          "execution_count": 308
        }
      ]
    },
    {
      "cell_type": "code",
      "source": [
        "# change the value of array, what will this do to `tensor`?\n",
        "array = array + 1\n",
        "array, tensor"
      ],
      "metadata": {
        "colab": {
          "base_uri": "https://localhost:8080/"
        },
        "id": "mG6D7mi3ld2l",
        "outputId": "ff2035cd-9d7a-429f-de55-4e353a32bd33"
      },
      "execution_count": 309,
      "outputs": [
        {
          "output_type": "execute_result",
          "data": {
            "text/plain": [
              "(array([2., 3., 4., 5., 6., 7., 8.]),\n",
              " tensor([1., 2., 3., 4., 5., 6., 7.], dtype=torch.float64))"
            ]
          },
          "metadata": {},
          "execution_count": 309
        }
      ]
    },
    {
      "cell_type": "code",
      "source": [
        "# tensor to Numpy array\n",
        "tensor = torch.ones(7)\n",
        "numpy_tensor = tensor.numpy()\n",
        "tensor, numpy_tensor\n"
      ],
      "metadata": {
        "colab": {
          "base_uri": "https://localhost:8080/"
        },
        "id": "piM8m8kxnx4k",
        "outputId": "821e3c3a-742a-4459-fb70-49344c2c2c44"
      },
      "execution_count": 310,
      "outputs": [
        {
          "output_type": "execute_result",
          "data": {
            "text/plain": [
              "(tensor([1., 1., 1., 1., 1., 1., 1.]),\n",
              " array([1., 1., 1., 1., 1., 1., 1.], dtype=float32))"
            ]
          },
          "metadata": {},
          "execution_count": 310
        }
      ]
    },
    {
      "cell_type": "code",
      "source": [
        "numpy_tensor.dtype"
      ],
      "metadata": {
        "colab": {
          "base_uri": "https://localhost:8080/"
        },
        "id": "wZkWEpXLoXaZ",
        "outputId": "c4fecb9f-d38c-45d3-8257-1b10bb3705c9"
      },
      "execution_count": 311,
      "outputs": [
        {
          "output_type": "execute_result",
          "data": {
            "text/plain": [
              "dtype('float32')"
            ]
          },
          "metadata": {},
          "execution_count": 311
        }
      ]
    },
    {
      "cell_type": "code",
      "source": [
        "# change the tensor, what happens to `numpy_tensor`?\n",
        "tensor = tensor + 1\n",
        "tensor, numpy_tensor\n"
      ],
      "metadata": {
        "colab": {
          "base_uri": "https://localhost:8080/"
        },
        "id": "TnIS_Sveoflt",
        "outputId": "25f013ec-1e97-4520-f90b-f3290b7c6079"
      },
      "execution_count": 312,
      "outputs": [
        {
          "output_type": "execute_result",
          "data": {
            "text/plain": [
              "(tensor([2., 2., 2., 2., 2., 2., 2.]),\n",
              " array([1., 1., 1., 1., 1., 1., 1.], dtype=float32))"
            ]
          },
          "metadata": {},
          "execution_count": 312
        }
      ]
    },
    {
      "cell_type": "markdown",
      "source": [
        "# Reproducibility\n",
        "(trying to take random out of random)"
      ],
      "metadata": {
        "id": "bNJSv5S5pO5G"
      }
    },
    {
      "cell_type": "markdown",
      "source": [
        "In short how a nueral network learns:\n",
        "\n",
        "`starts with randoms numbers -> tensor operations -> update random numbers to try and maake them better representation of the data -> again -> again -> again...`"
      ],
      "metadata": {
        "id": "HSZuXiWCpxXB"
      }
    },
    {
      "cell_type": "markdown",
      "source": [
        "To reduce the randomness in nueral network and pytorch comes the concept of **random seed**  \n",
        "\n",
        "Essentially what random seed does is \"flavour\" the randomness."
      ],
      "metadata": {
        "id": "cOQhkSjqsGPF"
      }
    },
    {
      "cell_type": "code",
      "source": [
        "torch.rand(3,3)"
      ],
      "metadata": {
        "colab": {
          "base_uri": "https://localhost:8080/"
        },
        "id": "G9QXEHLnpASA",
        "outputId": "e0181b4f-c9a4-4aae-8ca4-3e831b736b0e"
      },
      "execution_count": 314,
      "outputs": [
        {
          "output_type": "execute_result",
          "data": {
            "text/plain": [
              "tensor([[0.0971, 0.1471, 0.7833],\n",
              "        [0.5636, 0.1463, 0.6964],\n",
              "        [0.9650, 0.7762, 0.6681]])"
            ]
          },
          "metadata": {},
          "execution_count": 314
        }
      ]
    },
    {
      "cell_type": "code",
      "source": [
        "import torch\n",
        "\n",
        "# create two random tensors\n",
        "random_tensor_A = torch.rand(3,4)\n",
        "random_tennsor_B = torch.rand(3,4)\n",
        "\n",
        "random_tensor_A, random_tennsor_B\n"
      ],
      "metadata": {
        "colab": {
          "base_uri": "https://localhost:8080/"
        },
        "id": "hP3nFr74r7jj",
        "outputId": "c662317e-c817-4947-9805-5c06e7b13ed6"
      },
      "execution_count": 315,
      "outputs": [
        {
          "output_type": "execute_result",
          "data": {
            "text/plain": [
              "(tensor([[0.4708, 0.8892, 0.1316, 0.2329],\n",
              "         [0.8559, 0.9448, 0.2596, 0.7764],\n",
              "         [0.6248, 0.8250, 0.1712, 0.6943]]),\n",
              " tensor([[0.8546, 0.8637, 0.6125, 0.5854],\n",
              "         [0.1162, 0.4528, 0.4632, 0.6556],\n",
              "         [0.2090, 0.7460, 0.8312, 0.4905]]))"
            ]
          },
          "metadata": {},
          "execution_count": 315
        }
      ]
    },
    {
      "cell_type": "code",
      "source": [
        "print(random_tensor_A == random_tennsor_B)"
      ],
      "metadata": {
        "colab": {
          "base_uri": "https://localhost:8080/"
        },
        "id": "uTykaJX9tn4j",
        "outputId": "1e9f8405-2ccc-4541-efba-bb495619f3fe"
      },
      "execution_count": 316,
      "outputs": [
        {
          "output_type": "stream",
          "name": "stdout",
          "text": [
            "tensor([[False, False, False, False],\n",
            "        [False, False, False, False],\n",
            "        [False, False, False, False]])\n"
          ]
        }
      ]
    },
    {
      "cell_type": "code",
      "source": [
        "# Lets make some random but reproducible tensor\n",
        "\n",
        "import torch\n",
        "\n",
        "# set the random seed\n",
        "RANDOM_SEED = 42\n",
        "torch.manual_seed(RANDOM_SEED)\n",
        "\n",
        "random_tensor_C = torch.rand(3,4)\n",
        "\n",
        "torch.manual_seed(RANDOM_SEED)\n",
        "random_tensor_D = torch.rand(3,4)\n",
        "\n",
        "print(random_tensor_C)\n",
        "print(random_tensor_D)\n",
        "\n",
        "print(random_tensor_C == random_tensor_D)"
      ],
      "metadata": {
        "colab": {
          "base_uri": "https://localhost:8080/"
        },
        "id": "il8QQkd3twRg",
        "outputId": "b704335d-d3ba-413e-88a6-9e143f6b587d"
      },
      "execution_count": 318,
      "outputs": [
        {
          "output_type": "stream",
          "name": "stdout",
          "text": [
            "tensor([[0.8823, 0.9150, 0.3829, 0.9593],\n",
            "        [0.3904, 0.6009, 0.2566, 0.7936],\n",
            "        [0.9408, 0.1332, 0.9346, 0.5936]])\n",
            "tensor([[0.8823, 0.9150, 0.3829, 0.9593],\n",
            "        [0.3904, 0.6009, 0.2566, 0.7936],\n",
            "        [0.9408, 0.1332, 0.9346, 0.5936]])\n",
            "tensor([[True, True, True, True],\n",
            "        [True, True, True, True],\n",
            "        [True, True, True, True]])\n"
          ]
        }
      ]
    }
  ]
}